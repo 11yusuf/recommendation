{
 "cells": [
  {
   "cell_type": "markdown",
   "metadata": {},
   "source": [
    "# Recommendation system:\n",
    "\n",
    "    this project is done by: \n",
    "        Youssef Abid\n",
    "        Nada Zaddem\n",
    "        Nadhem Zmander\n",
    "\n",
    "    Under the supervision of Mrs. Tbarki khaoula"
   ]
  },
  {
   "cell_type": "markdown",
   "metadata": {},
   "source": [
    "## Neural Collaborative Filtering"
   ]
  },
  {
   "cell_type": "code",
   "execution_count": 2,
   "metadata": {},
   "outputs": [
    {
     "name": "stderr",
     "output_type": "stream",
     "text": [
      "Using TensorFlow backend.\n"
     ]
    }
   ],
   "source": [
    "import pandas as pd\n",
    "import numpy as np\n",
    "import matplotlib.pyplot as plt\n",
    "import scipy.sparse as sp\n",
    "from scipy.sparse import vstack\n",
    "import warnings\n",
    "warnings.filterwarnings('ignore')\n",
    "from keras.models import Sequential, Model\n",
    "from keras.layers import Embedding, Reshape, Activation, Input, Dense, Flatten, Dropout\n",
    "from keras.layers.merge import Dot, multiply, concatenate\n",
    "from keras.utils import np_utils\n",
    "from keras.layers import merge\n",
    "from keras.optimizers import Adagrad, Adam, SGD, RMSprop\n",
    "from sklearn.metrics import mean_absolute_error\n",
    "\n",
    "%matplotlib inline"
   ]
  },
  {
   "cell_type": "code",
   "execution_count": 3,
   "metadata": {},
   "outputs": [],
   "source": [
    "events = pd.read_csv('./input/events.csv')"
   ]
  },
  {
   "cell_type": "code",
   "execution_count": 4,
   "metadata": {},
   "outputs": [
    {
     "data": {
      "text/html": [
       "<div>\n",
       "<style scoped>\n",
       "    .dataframe tbody tr th:only-of-type {\n",
       "        vertical-align: middle;\n",
       "    }\n",
       "\n",
       "    .dataframe tbody tr th {\n",
       "        vertical-align: top;\n",
       "    }\n",
       "\n",
       "    .dataframe thead th {\n",
       "        text-align: right;\n",
       "    }\n",
       "</style>\n",
       "<table border=\"1\" class=\"dataframe\">\n",
       "  <thead>\n",
       "    <tr style=\"text-align: right;\">\n",
       "      <th></th>\n",
       "      <th>timestamp</th>\n",
       "      <th>visitorid</th>\n",
       "      <th>event</th>\n",
       "      <th>itemid</th>\n",
       "      <th>transactionid</th>\n",
       "    </tr>\n",
       "  </thead>\n",
       "  <tbody>\n",
       "    <tr>\n",
       "      <th>1361687</th>\n",
       "      <td>1442004589439</td>\n",
       "      <td>0</td>\n",
       "      <td>view</td>\n",
       "      <td>285930</td>\n",
       "      <td>NaN</td>\n",
       "    </tr>\n",
       "    <tr>\n",
       "      <th>1367212</th>\n",
       "      <td>1442004759591</td>\n",
       "      <td>0</td>\n",
       "      <td>view</td>\n",
       "      <td>357564</td>\n",
       "      <td>NaN</td>\n",
       "    </tr>\n",
       "    <tr>\n",
       "      <th>1367342</th>\n",
       "      <td>1442004917175</td>\n",
       "      <td>0</td>\n",
       "      <td>view</td>\n",
       "      <td>67045</td>\n",
       "      <td>NaN</td>\n",
       "    </tr>\n",
       "    <tr>\n",
       "      <th>830385</th>\n",
       "      <td>1439487966444</td>\n",
       "      <td>1</td>\n",
       "      <td>view</td>\n",
       "      <td>72028</td>\n",
       "      <td>NaN</td>\n",
       "    </tr>\n",
       "    <tr>\n",
       "      <th>742616</th>\n",
       "      <td>1438969904567</td>\n",
       "      <td>2</td>\n",
       "      <td>view</td>\n",
       "      <td>325215</td>\n",
       "      <td>NaN</td>\n",
       "    </tr>\n",
       "  </tbody>\n",
       "</table>\n",
       "</div>"
      ],
      "text/plain": [
       "             timestamp  visitorid event  itemid  transactionid\n",
       "1361687  1442004589439          0  view  285930            NaN\n",
       "1367212  1442004759591          0  view  357564            NaN\n",
       "1367342  1442004917175          0  view   67045            NaN\n",
       "830385   1439487966444          1  view   72028            NaN\n",
       "742616   1438969904567          2  view  325215            NaN"
      ]
     },
     "execution_count": 4,
     "metadata": {},
     "output_type": "execute_result"
    }
   ],
   "source": [
    "events = events.sort_values(by=['visitorid', 'timestamp'])\n",
    "events.head()"
   ]
  },
  {
   "cell_type": "markdown",
   "metadata": {},
   "source": [
    "# Filtring data"
   ]
  },
  {
   "cell_type": "markdown",
   "metadata": {},
   "source": [
    "Assign a unique number between 0 and # users to each user. the same for items.\n",
    "convert actions to weights."
   ]
  },
  {
   "cell_type": "code",
   "execution_count": 5,
   "metadata": {},
   "outputs": [],
   "source": [
    "user_item = dict()\n",
    "action_weights = [2,3,5]\n",
    "\n",
    "visitorid_to_index_mapping  = {}\n",
    "itemid_to_index_mapping  = {}\n",
    "vid = 0\n",
    "iid = 0\n",
    "\n",
    "buyers = [] # we can take only users that made a purchase but that will reduced very much our data set\n",
    "\n",
    "for index, row in enumerate(events.itertuples()):\n",
    "    if row.visitorid not in visitorid_to_index_mapping:\n",
    "        visitorid_to_index_mapping[row.visitorid] = vid\n",
    "        vid += 1\n",
    "        \n",
    "    if  row.itemid not in itemid_to_index_mapping:\n",
    "        itemid_to_index_mapping[row.itemid] = iid\n",
    "        iid += 1\n",
    "    \n",
    "    visitor_index = visitorid_to_index_mapping[row.visitorid]\n",
    "    item_index = itemid_to_index_mapping[row.itemid]\n",
    "    \n",
    "    user_item[index] = {'visitorId':visitor_index, 'itemId':item_index, 'value':0, 'timestamp':row.timestamp}\n",
    "    if row.event == 'view':\n",
    "        user_item[index]['value'] = max(user_item[index]['value'], action_weights[0]) \n",
    "    elif row.event == 'addtocart':\n",
    "        user_item[index]['value'] = max(user_item[index]['value'], action_weights[1])\n",
    "    elif row.event == 'transaction':\n",
    "        user_item[index]['value'] = max(user_item[index]['value'], action_weights[2])\n",
    "\n",
    "data = pd.DataFrame(user_item)"
   ]
  },
  {
   "cell_type": "code",
   "execution_count": 22,
   "metadata": {
    "scrolled": true
   },
   "outputs": [
    {
     "data": {
      "text/html": [
       "<div>\n",
       "<style scoped>\n",
       "    .dataframe tbody tr th:only-of-type {\n",
       "        vertical-align: middle;\n",
       "    }\n",
       "\n",
       "    .dataframe tbody tr th {\n",
       "        vertical-align: top;\n",
       "    }\n",
       "\n",
       "    .dataframe thead th {\n",
       "        text-align: right;\n",
       "    }\n",
       "</style>\n",
       "<table border=\"1\" class=\"dataframe\">\n",
       "  <thead>\n",
       "    <tr style=\"text-align: right;\">\n",
       "      <th></th>\n",
       "      <th>itemId</th>\n",
       "      <th>timestamp</th>\n",
       "      <th>value</th>\n",
       "      <th>visitorId</th>\n",
       "    </tr>\n",
       "  </thead>\n",
       "  <tbody>\n",
       "    <tr>\n",
       "      <th>0</th>\n",
       "      <td>0</td>\n",
       "      <td>1442004589439</td>\n",
       "      <td>2</td>\n",
       "      <td>0</td>\n",
       "    </tr>\n",
       "    <tr>\n",
       "      <th>1</th>\n",
       "      <td>1</td>\n",
       "      <td>1442004759591</td>\n",
       "      <td>2</td>\n",
       "      <td>0</td>\n",
       "    </tr>\n",
       "    <tr>\n",
       "      <th>2</th>\n",
       "      <td>2</td>\n",
       "      <td>1442004917175</td>\n",
       "      <td>2</td>\n",
       "      <td>0</td>\n",
       "    </tr>\n",
       "    <tr>\n",
       "      <th>3</th>\n",
       "      <td>3</td>\n",
       "      <td>1439487966444</td>\n",
       "      <td>2</td>\n",
       "      <td>1</td>\n",
       "    </tr>\n",
       "    <tr>\n",
       "      <th>4</th>\n",
       "      <td>4</td>\n",
       "      <td>1438969904567</td>\n",
       "      <td>2</td>\n",
       "      <td>2</td>\n",
       "    </tr>\n",
       "    <tr>\n",
       "      <th>5</th>\n",
       "      <td>4</td>\n",
       "      <td>1438970013790</td>\n",
       "      <td>2</td>\n",
       "      <td>2</td>\n",
       "    </tr>\n",
       "    <tr>\n",
       "      <th>6</th>\n",
       "      <td>5</td>\n",
       "      <td>1438970212664</td>\n",
       "      <td>2</td>\n",
       "      <td>2</td>\n",
       "    </tr>\n",
       "    <tr>\n",
       "      <th>7</th>\n",
       "      <td>6</td>\n",
       "      <td>1438970468920</td>\n",
       "      <td>2</td>\n",
       "      <td>2</td>\n",
       "    </tr>\n",
       "    <tr>\n",
       "      <th>8</th>\n",
       "      <td>7</td>\n",
       "      <td>1438970905669</td>\n",
       "      <td>2</td>\n",
       "      <td>2</td>\n",
       "    </tr>\n",
       "    <tr>\n",
       "      <th>9</th>\n",
       "      <td>7</td>\n",
       "      <td>1438971444375</td>\n",
       "      <td>2</td>\n",
       "      <td>2</td>\n",
       "    </tr>\n",
       "  </tbody>\n",
       "</table>\n",
       "</div>"
      ],
      "text/plain": [
       "   itemId      timestamp  value  visitorId\n",
       "0       0  1442004589439      2          0\n",
       "1       1  1442004759591      2          0\n",
       "2       2  1442004917175      2          0\n",
       "3       3  1439487966444      2          1\n",
       "4       4  1438969904567      2          2\n",
       "5       4  1438970013790      2          2\n",
       "6       5  1438970212664      2          2\n",
       "7       6  1438970468920      2          2\n",
       "8       7  1438970905669      2          2\n",
       "9       7  1438971444375      2          2"
      ]
     },
     "execution_count": 22,
     "metadata": {},
     "output_type": "execute_result"
    }
   ],
   "source": [
    "data = data.transpose()\n",
    "data = data.sort_values(by=['visitorId', 'timestamp'])\n",
    "data.head(10)"
   ]
  },
  {
   "cell_type": "code",
   "execution_count": 23,
   "metadata": {},
   "outputs": [
    {
     "name": "stdout",
     "output_type": "stream",
     "text": [
      "Number of unique visitors 1407580\n",
      "Number of unique items 235061\n"
     ]
    }
   ],
   "source": [
    "print('Number of unique visitors ' + str(len(data.visitorId.unique())))\n",
    "print('Number of unique items ' + str(len(data.itemId.unique())))"
   ]
  },
  {
   "cell_type": "markdown",
   "metadata": {},
   "source": [
    "Split the data set into train and test set."
   ]
  },
  {
   "cell_type": "code",
   "execution_count": 27,
   "metadata": {},
   "outputs": [],
   "source": [
    "from sklearn.model_selection import train_test_split\n",
    "train, test = train_test_split(data, test_size=0.998)"
   ]
  },
  {
   "cell_type": "markdown",
   "metadata": {},
   "source": [
    "### Model 1: simple linear model "
   ]
  },
  {
   "cell_type": "markdown",
   "metadata": {},
   "source": [
    "The first model is a simple linear model where we learn a dense representation of each items and visitors in our data set."
   ]
  },
  {
   "cell_type": "code",
   "execution_count": 28,
   "metadata": {},
   "outputs": [],
   "source": [
    "dim_embedddings = 30\n",
    "num_items = len(data.itemId.unique())\n",
    "num_visitors = len(data.visitorId.unique())"
   ]
  },
  {
   "cell_type": "code",
   "execution_count": 29,
   "metadata": {},
   "outputs": [],
   "source": [
    "m_inputs = Input(shape=(1,), dtype='int32')\n",
    "m = Embedding(num_items + 1, dim_embedddings, name=\"item\")(m_inputs)\n",
    "\n",
    "u_inputs = Input(shape=(1,), dtype='int32')\n",
    "u = Embedding(num_visitors + 1, dim_embedddings, name=\"visitor\")(u_inputs)\n",
    "\n",
    "o = multiply([m, u])\n",
    "o = Dropout(0.5)(o)\n",
    "o = Flatten()(o)\n",
    "o = Dense(1)(o)\n",
    "\n",
    "rec_model = Model(inputs=[m_inputs, u_inputs], outputs=o)\n",
    "rec_model.compile(loss='mae', optimizer='adam', metrics=[\"mae\"])"
   ]
  },
  {
   "cell_type": "code",
   "execution_count": 30,
   "metadata": {},
   "outputs": [
    {
     "name": "stdout",
     "output_type": "stream",
     "text": [
      "Train on 4960 samples, validate on 552 samples\n",
      "Epoch 1/5\n",
      "85s - loss: 1.9765 - mean_absolute_error: 1.9765 - val_loss: 1.8952 - val_mean_absolute_error: 1.8952\n",
      "Epoch 2/5\n",
      "82s - loss: 1.8190 - mean_absolute_error: 1.8190 - val_loss: 1.7399 - val_mean_absolute_error: 1.7399\n",
      "Epoch 3/5\n",
      "84s - loss: 1.6576 - mean_absolute_error: 1.6576 - val_loss: 1.5847 - val_mean_absolute_error: 1.5847\n",
      "Epoch 4/5\n",
      "85s - loss: 1.4870 - mean_absolute_error: 1.4870 - val_loss: 1.4295 - val_mean_absolute_error: 1.4295\n",
      "Epoch 5/5\n",
      "83s - loss: 1.3011 - mean_absolute_error: 1.3011 - val_loss: 1.2742 - val_mean_absolute_error: 1.2742\n"
     ]
    }
   ],
   "source": [
    "history = rec_model.fit([train.itemId, train.visitorId], train.value, epochs=5, verbose=2, validation_split=0.1)"
   ]
  },
  {
   "cell_type": "code",
   "execution_count": 31,
   "metadata": {},
   "outputs": [
    {
     "name": "stdout",
     "output_type": "stream",
     "text": [
      "0.70621256481148\n"
     ]
    }
   ],
   "source": [
    "print(mean_absolute_error(test.value, rec_model.predict([test.itemId, test.visitorId])))"
   ]
  },
  {
   "cell_type": "markdown",
   "metadata": {},
   "source": [
    "### Model 2:  With bias"
   ]
  },
  {
   "cell_type": "markdown",
   "metadata": {},
   "source": [
    "In this model we introduce a bias. The first model does not explicitly take into account the bias that a user might buy all items he viewed or a item having consistently viewed but not bought by all users."
   ]
  },
  {
   "cell_type": "code",
   "execution_count": 48,
   "metadata": {},
   "outputs": [],
   "source": [
    "bias = 1\n",
    "m_inputs = Input(shape=(1,), dtype='int32')\n",
    "m = Embedding(num_items + 1, dim_embedddings, name=\"item\")(m_inputs)\n",
    "m_bias = Embedding(num_items + 1, bias, name=\"itembias\")(m_inputs)\n",
    "\n",
    "u_inputs = Input(shape=(1,), dtype='int32')\n",
    "u = Embedding(num_visitors + 1, dim_embedddings, name=\"visitor\")(u_inputs)\n",
    "u_bias = Embedding(num_visitors + 1, bias, name=\"visitorbias\")(u_inputs)\n",
    "\n",
    "o = multiply([m, u])\n",
    "o = concatenate([o, m_bias, u_bias])\n",
    "o = Dropout(0.5)(o)\n",
    "o = Flatten()(o)\n",
    "o = Dense(1)(o)\n",
    "\n",
    "rec_model = Model(inputs=[m_inputs, u_inputs], outputs=o)\n",
    "rec_model.compile(loss='mae', optimizer='adam', metrics=[\"mae\"])"
   ]
  },
  {
   "cell_type": "code",
   "execution_count": 49,
   "metadata": {},
   "outputs": [
    {
     "name": "stdout",
     "output_type": "stream",
     "text": [
      "Train on 2480 samples, validate on 276 samples\n",
      "Epoch 1/5\n",
      "104s - loss: 2.0078 - mean_absolute_error: 2.0078 - val_loss: 2.0083 - val_mean_absolute_error: 2.0083\n",
      "Epoch 2/5\n",
      "51s - loss: 1.9269 - mean_absolute_error: 1.9269 - val_loss: 1.9299 - val_mean_absolute_error: 1.9299\n",
      "Epoch 3/5\n",
      "51s - loss: 1.8425 - mean_absolute_error: 1.8425 - val_loss: 1.8512 - val_mean_absolute_error: 1.8512\n",
      "Epoch 4/5\n",
      "50s - loss: 1.7528 - mean_absolute_error: 1.7528 - val_loss: 1.7720 - val_mean_absolute_error: 1.7720\n",
      "Epoch 5/5\n",
      "51s - loss: 1.6548 - mean_absolute_error: 1.6548 - val_loss: 1.6926 - val_mean_absolute_error: 1.6926\n"
     ]
    }
   ],
   "source": [
    "history = rec_model.fit([train.itemId, train.visitorId], train.value, epochs=5, verbose=2, validation_split=0.1)"
   ]
  },
  {
   "cell_type": "code",
   "execution_count": 16,
   "metadata": {},
   "outputs": [
    {
     "name": "stdout",
     "output_type": "stream",
     "text": [
      "0.6893623254451426\n"
     ]
    }
   ],
   "source": [
    "print(mean_absolute_error(test.value, rec_model.predict([test.itemId, test.visitorId])))"
   ]
  },
  {
   "cell_type": "markdown",
   "metadata": {},
   "source": [
    "### Model 3: Neural collaborative filtering"
   ]
  },
  {
   "cell_type": "code",
   "execution_count": 50,
   "metadata": {},
   "outputs": [],
   "source": [
    "mf_dim = 8\n",
    "layers = [64, 32, 16, 8]\n",
    "visitor_input = Input(shape=(1,), dtype='int32', name = 'visitor_input')\n",
    "item_input = Input(shape=(1,), dtype='int32', name = 'item_input')\n",
    "\n",
    "MF_Embedding_Visitor = Embedding(input_dim = num_visitors + 1, output_dim = mf_dim, name = 'mf_embedding_visitor', input_length=1)\n",
    "MF_Embedding_Item = Embedding(input_dim = num_items + 1, output_dim = mf_dim, name = 'mf_embedding_item', input_length=1)\n",
    "\n",
    "MLP_Embedding_Visitor = Embedding(input_dim = num_visitors + 1, output_dim = int(layers[0]/2), name = \"mlp_embedding_visitor\", input_length=1)\n",
    "MLP_Embedding_Item = Embedding(input_dim = num_items + 1, output_dim = int(layers[0]/2), name = 'mlp_embedding_item', input_length=1)\n",
    "\n",
    "mf_visitor_latent = Flatten()(MF_Embedding_Visitor(visitor_input))\n",
    "mf_item_latent = Flatten()(MF_Embedding_Item(item_input))\n",
    "\n",
    "mf_vector = merge([mf_visitor_latent, mf_item_latent], mode = 'mul')\n",
    "\n",
    "mlp_visitor_latent = Flatten()(MLP_Embedding_Visitor(visitor_input)) \n",
    "mlp_item_latent = Flatten()(MLP_Embedding_Item(item_input))\n",
    "\n",
    "mlp_vector = merge([mlp_visitor_latent, mlp_item_latent], mode = 'concat')\n",
    "\n",
    "for idx in range(1, len(layers)):\n",
    "    layer = Dense(layers[idx], activation='relu', name=\"layer%d\" %idx)\n",
    "    mlp_vector = layer(mlp_vector)\n",
    "                  \n",
    "predict_vector = merge([mf_vector, mlp_vector], mode = 'concat')\n",
    "prediction = Dense(1, activation='sigmoid', init='lecun_uniform', name = \"prediction\")(predict_vector)\n",
    "\n",
    "model = Model(input=[visitor_input, item_input], output=prediction)\n",
    "model.compile(optimizer=Adam(lr=0.001), loss='binary_crossentropy')"
   ]
  },
  {
   "cell_type": "code",
   "execution_count": 51,
   "metadata": {},
   "outputs": [
    {
     "name": "stdout",
     "output_type": "stream",
     "text": [
      "____________________________________________________________________________________________________\n",
      "Layer (type)                     Output Shape          Param #     Connected to                     \n",
      "====================================================================================================\n",
      "visitor_input (InputLayer)       (None, 1)             0                                            \n",
      "____________________________________________________________________________________________________\n",
      "item_input (InputLayer)          (None, 1)             0                                            \n",
      "____________________________________________________________________________________________________\n",
      "mlp_embedding_visitor (Embedding (None, 1, 32)         45042592    visitor_input[0][0]              \n",
      "____________________________________________________________________________________________________\n",
      "mlp_embedding_item (Embedding)   (None, 1, 32)         7521984     item_input[0][0]                 \n",
      "____________________________________________________________________________________________________\n",
      "flatten_10 (Flatten)             (None, 32)            0           mlp_embedding_visitor[0][0]      \n",
      "____________________________________________________________________________________________________\n",
      "flatten_11 (Flatten)             (None, 32)            0           mlp_embedding_item[0][0]         \n",
      "____________________________________________________________________________________________________\n",
      "merge_2 (Merge)                  (None, 64)            0           flatten_10[0][0]                 \n",
      "                                                                   flatten_11[0][0]                 \n",
      "____________________________________________________________________________________________________\n",
      "mf_embedding_visitor (Embedding) (None, 1, 8)          11260648    visitor_input[0][0]              \n",
      "____________________________________________________________________________________________________\n",
      "mf_embedding_item (Embedding)    (None, 1, 8)          1880496     item_input[0][0]                 \n",
      "____________________________________________________________________________________________________\n",
      "layer1 (Dense)                   (None, 32)            2080        merge_2[0][0]                    \n",
      "____________________________________________________________________________________________________\n",
      "flatten_8 (Flatten)              (None, 8)             0           mf_embedding_visitor[0][0]       \n",
      "____________________________________________________________________________________________________\n",
      "flatten_9 (Flatten)              (None, 8)             0           mf_embedding_item[0][0]          \n",
      "____________________________________________________________________________________________________\n",
      "layer2 (Dense)                   (None, 16)            528         layer1[0][0]                     \n",
      "____________________________________________________________________________________________________\n",
      "merge_1 (Merge)                  (None, 8)             0           flatten_8[0][0]                  \n",
      "                                                                   flatten_9[0][0]                  \n",
      "____________________________________________________________________________________________________\n",
      "layer3 (Dense)                   (None, 8)             136         layer2[0][0]                     \n",
      "____________________________________________________________________________________________________\n",
      "merge_3 (Merge)                  (None, 16)            0           merge_1[0][0]                    \n",
      "                                                                   layer3[0][0]                     \n",
      "____________________________________________________________________________________________________\n",
      "prediction (Dense)               (None, 1)             17          merge_3[0][0]                    \n",
      "====================================================================================================\n",
      "Total params: 65,708,481\n",
      "Trainable params: 65,708,481\n",
      "Non-trainable params: 0\n",
      "____________________________________________________________________________________________________\n"
     ]
    }
   ],
   "source": [
    "model.summary()"
   ]
  },
  {
   "cell_type": "code",
   "execution_count": 22,
   "metadata": {},
   "outputs": [
    {
     "name": "stdout",
     "output_type": "stream",
     "text": [
      "Train on 72601 samples, validate on 8067 samples\n",
      "Epoch 1/1\n",
      "11s - loss: -3.9917e+01 - val_loss: -3.9782e+01\n"
     ]
    }
   ],
   "source": [
    "history = model.fit([train.visitorId, train.itemId], train.value, epochs=1, verbose=2, validation_split=0.1)"
   ]
  },
  {
   "cell_type": "code",
   "execution_count": 20,
   "metadata": {},
   "outputs": [
    {
     "name": "stdout",
     "output_type": "stream",
     "text": [
      "2.5652217389130545\n"
     ]
    }
   ],
   "source": [
    "print(mean_absolute_error(test.rating, model.predict([test.visitorId, test.itemId])))"
   ]
  },
  {
   "cell_type": "markdown",
   "metadata": {},
   "source": [
    "## References"
   ]
  },
  {
   "cell_type": "markdown",
   "metadata": {},
   "source": [
    "* [Neural Collaborative Filtering](https://arxiv.org/abs/1708.05031)"
   ]
  }
 ],
 "metadata": {
  "kernelspec": {
   "display_name": "Python 3",
   "language": "python",
   "name": "python3"
  },
  "language_info": {
   "codemirror_mode": {
    "name": "ipython",
    "version": 3
   },
   "file_extension": ".py",
   "mimetype": "text/x-python",
   "name": "python",
   "nbconvert_exporter": "python",
   "pygments_lexer": "ipython3",
   "version": "3.5.2"
  }
 },
 "nbformat": 4,
 "nbformat_minor": 2
}
